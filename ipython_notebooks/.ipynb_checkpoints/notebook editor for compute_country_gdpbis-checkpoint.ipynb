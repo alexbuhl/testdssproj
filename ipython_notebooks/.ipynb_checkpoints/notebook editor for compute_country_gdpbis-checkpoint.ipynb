{
  "nbformat": 4,
  "nbformat_minor": 0,
  "metadata": {
    "kernelspec": {
      "display_name": "Python 2",
      "language": "python",
      "name": "python2"
    },
    "associatedRecipe": "compute_country_gdpbis",
    "creator": "admin",
    "createdOn": 1621599587760,
    "tags": [
      "recipe-editor"
    ],
    "customFields": {}
  },
  "cells": [
    {
      "cell_type": "code",
      "metadata": {},
      "outputs": [],
      "execution_count": 0,
      "source": [
        "# -*- coding: utf-8 -*-\n",
        "import dataiku\n",
        "import pandas as pd, numpy as np\n",
        "from dataiku import pandasutils as pdu\n",
        "\n",
        "# Read recipe inputs\n",
        "country_gdp \u003d dataiku.Dataset(\"country_gdp\")\n",
        "country_gdp_df \u003d country_gdp.get_dataframe()\n",
        "\n",
        "\n",
        "# Compute recipe outputs from inputs\n",
        "# TODO: Replace this part by your actual code that computes the output, as a Pandas dataframe\n",
        "# NB: DSS also supports other kinds of APIs for reading and writing data. Please see doc.\n",
        "\n",
        "country_gdpbis_df \u003d country_gdp_df # For this sample code, simply copy input to output\n",
        "\n",
        "\n",
        "# Write recipe outputs\n",
        "country_gdpbis \u003d dataiku.Dataset(\"country_gdpbis\")\n",
        "country_gdpbis.write_with_schema(country_gdpbis_df)"
      ]
    }
  ]
}