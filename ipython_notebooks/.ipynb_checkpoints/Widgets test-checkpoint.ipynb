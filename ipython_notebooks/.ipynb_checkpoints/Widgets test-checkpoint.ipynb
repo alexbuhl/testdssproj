{
  "metadata": {
    "kernelspec": {
      "display_name": "Python (env Py36)",
      "name": "py-dku-venv-py36",
      "language": "python"
    },
    "language_info": {
      "mimetype": "text/x-python",
      "nbconvert_exporter": "python",
      "version": "3.6.5",
      "name": "python",
      "pygments_lexer": "ipython3",
      "file_extension": ".py",
      "codemirror_mode": {
        "version": 3,
        "name": "ipython"
      }
    },
    "creator": "admin",
    "createdOn": 1625676305175,
    "hide_input": false,
    "modifiedBy": "admin",
    "customFields": {},
    "tags": []
  },
  "nbformat": 4,
  "nbformat_minor": 1,
  "cells": [
    {
      "execution_count": 13,
      "cell_type": "code",
      "metadata": {},
      "source": [
        "from ipywidgets import interact, interactive, fixed, interact_manual"
      ],
      "outputs": []
    },
    {
      "execution_count": 14,
      "cell_type": "code",
      "metadata": {},
      "source": [
        "def f(x):\n    return x"
      ],
      "outputs": []
    },
    {
      "execution_count": 15,
      "cell_type": "code",
      "metadata": {},
      "source": [
        "interact(f, x\u003d10);"
      ],
      "outputs": [
        {
          "output_type": "display_data",
          "data": {
            "application/vnd.jupyter.widget-view+json": {
              "model_id": "62be579fd9a6423db56643bcbad76f83",
              "version_minor": 0,
              "version_major": 2
            },
            "text/plain": "interactive(children\u003d(IntSlider(value\u003d10, description\u003d\u0027x\u0027, max\u003d30, min\u003d-10), Output()), _dom_classes\u003d(\u0027widget-…"
          },
          "metadata": {}
        }
      ]
    },
    {
      "execution_count": 0,
      "cell_type": "code",
      "metadata": {},
      "source": [
        ""
      ],
      "outputs": []
    }
  ]
}