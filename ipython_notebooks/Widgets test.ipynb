{
  "metadata": {
    "kernelspec": {
      "display_name": "Python (env Py36)",
      "name": "py-dku-venv-py36",
      "language": "python"
    },
    "language_info": {
      "mimetype": "text/x-python",
      "nbconvert_exporter": "python",
      "version": "3.6.5",
      "name": "python",
      "pygments_lexer": "ipython3",
      "file_extension": ".py",
      "codemirror_mode": {
        "version": 3,
        "name": "ipython"
      }
    },
    "creator": "admin",
    "createdOn": 1625676305175,
    "hide_input": false,
    "modifiedBy": "admin",
    "widgets": {
      "application/vnd.jupyter.widget-state+json": {
        "state": {
          "2520093e5f134e0784d40231aee2b02e": {
            "model_module": "@jupyter-widgets/base",
            "model_name": "LayoutModel",
            "state": {
              "_model_module_version": "1.2.0",
              "_view_module_version": "1.2.0"
            },
            "model_module_version": "1.2.0"
          },
          "a80a636929e741c7aad90f88824aebe7": {
            "model_module": "@jupyter-widgets/controls",
            "model_name": "SliderStyleModel",
            "state": {
              "_view_module_version": "1.2.0",
              "description_width": "",
              "_model_module_version": "1.5.0"
            },
            "model_module_version": "1.5.0"
          },
          "ece76268f2b04f209da956594f241bf6": {
            "model_module": "@jupyter-widgets/controls",
            "model_name": "SliderStyleModel",
            "state": {
              "_view_module_version": "1.2.0",
              "description_width": "",
              "_model_module_version": "1.5.0"
            },
            "model_module_version": "1.5.0"
          },
          "19e7f1669fa3489bb98b359d2972ec28": {
            "model_module": "@jupyter-widgets/controls",
            "model_name": "VBoxModel",
            "state": {
              "layout": "IPY_MODEL_b0c3a292bbc140ffbaf67a778169ab6d",
              "_view_module_version": "1.5.0",
              "_dom_classes": [
                "widget-interact"
              ],
              "_model_module_version": "1.5.0",
              "children": [
                "IPY_MODEL_4c818240205d4295bad0924387c892dd",
                "IPY_MODEL_58c17ae2f0984f93b193245b1d473670"
              ]
            },
            "model_module_version": "1.5.0"
          },
          "4cec1899964140cab9598fdaa8459700": {
            "model_module": "@jupyter-widgets/controls",
            "model_name": "VBoxModel",
            "state": {
              "layout": "IPY_MODEL_2520093e5f134e0784d40231aee2b02e",
              "_view_module_version": "1.5.0",
              "_dom_classes": [
                "widget-interact"
              ],
              "_model_module_version": "1.5.0",
              "children": [
                "IPY_MODEL_243def6571a74ee7b26f4f7b506b555a",
                "IPY_MODEL_30a9cbc3559844d9956aa24d4629017a"
              ]
            },
            "model_module_version": "1.5.0"
          },
          "9638db5d6cc74e6aba2f6207034c314c": {
            "model_module": "@jupyter-widgets/base",
            "model_name": "LayoutModel",
            "state": {
              "_model_module_version": "1.2.0",
              "_view_module_version": "1.2.0"
            },
            "model_module_version": "1.2.0"
          },
          "58c17ae2f0984f93b193245b1d473670": {
            "model_module": "@jupyter-widgets/output",
            "model_name": "OutputModel",
            "state": {
              "outputs": [
                {
                  "output_type": "display_data",
                  "data": {
                    "text/plain": "10"
                  },
                  "metadata": {}
                }
              ],
              "layout": "IPY_MODEL_d2a70410575240da85e269d18293fe04"
            },
            "model_module_version": "1.0.0"
          },
          "d2a70410575240da85e269d18293fe04": {
            "model_module": "@jupyter-widgets/base",
            "model_name": "LayoutModel",
            "state": {
              "_model_module_version": "1.2.0",
              "_view_module_version": "1.2.0"
            },
            "model_module_version": "1.2.0"
          },
          "4c818240205d4295bad0924387c892dd": {
            "model_module": "@jupyter-widgets/controls",
            "model_name": "IntSliderModel",
            "state": {
              "style": "IPY_MODEL_a80a636929e741c7aad90f88824aebe7",
              "layout": "IPY_MODEL_9638db5d6cc74e6aba2f6207034c314c",
              "description": "x",
              "min": -10,
              "max": 30,
              "_model_module_version": "1.5.0",
              "value": 10,
              "_view_module_version": "1.5.0"
            },
            "model_module_version": "1.5.0"
          },
          "b0c3a292bbc140ffbaf67a778169ab6d": {
            "model_module": "@jupyter-widgets/base",
            "model_name": "LayoutModel",
            "state": {
              "_model_module_version": "1.2.0",
              "_view_module_version": "1.2.0"
            },
            "model_module_version": "1.2.0"
          },
          "30a9cbc3559844d9956aa24d4629017a": {
            "model_module": "@jupyter-widgets/output",
            "model_name": "OutputModel",
            "state": {
              "outputs": [
                {
                  "output_type": "display_data",
                  "data": {
                    "text/plain": "10"
                  },
                  "metadata": {}
                }
              ],
              "layout": "IPY_MODEL_f72aeec37bd643aaa4435feed93a3b2f"
            },
            "model_module_version": "1.0.0"
          },
          "f72aeec37bd643aaa4435feed93a3b2f": {
            "model_module": "@jupyter-widgets/base",
            "model_name": "LayoutModel",
            "state": {
              "_model_module_version": "1.2.0",
              "_view_module_version": "1.2.0"
            },
            "model_module_version": "1.2.0"
          },
          "ad8450806fbe4c00b62b1dce4bacbcd4": {
            "model_module": "@jupyter-widgets/base",
            "model_name": "LayoutModel",
            "state": {
              "_model_module_version": "1.2.0",
              "_view_module_version": "1.2.0"
            },
            "model_module_version": "1.2.0"
          },
          "243def6571a74ee7b26f4f7b506b555a": {
            "model_module": "@jupyter-widgets/controls",
            "model_name": "IntSliderModel",
            "state": {
              "style": "IPY_MODEL_ece76268f2b04f209da956594f241bf6",
              "layout": "IPY_MODEL_ad8450806fbe4c00b62b1dce4bacbcd4",
              "description": "x",
              "min": -10,
              "max": 30,
              "_model_module_version": "1.5.0",
              "value": 10,
              "_view_module_version": "1.5.0"
            },
            "model_module_version": "1.5.0"
          }
        },
        "version_minor": 0,
        "version_major": 2
      }
    },
    "customFields": {},
    "tags": []
  },
  "nbformat": 4,
  "nbformat_minor": 1,
  "cells": [
    {
      "execution_count": 4,
      "cell_type": "code",
      "metadata": {},
      "source": [
        "from ipywidgets import interact, interactive, fixed, interact_manual"
      ],
      "outputs": []
    },
    {
      "execution_count": 5,
      "cell_type": "code",
      "metadata": {},
      "source": [
        "def f(x):\n    return x"
      ],
      "outputs": []
    },
    {
      "execution_count": 6,
      "cell_type": "code",
      "metadata": {},
      "source": [
        "interact(f, x\u003d10);"
      ],
      "outputs": [
        {
          "output_type": "display_data",
          "data": {
            "application/vnd.jupyter.widget-view+json": {
              "model_id": "4cec1899964140cab9598fdaa8459700",
              "version_minor": 0,
              "version_major": 2
            },
            "text/plain": "interactive(children\u003d(IntSlider(value\u003d10, description\u003d\u0027x\u0027, max\u003d30, min\u003d-10), Output()), _dom_classes\u003d(\u0027widget-…"
          },
          "metadata": {}
        }
      ]
    },
    {
      "execution_count": 0,
      "cell_type": "code",
      "metadata": {},
      "source": [
        ""
      ],
      "outputs": []
    }
  ]
}