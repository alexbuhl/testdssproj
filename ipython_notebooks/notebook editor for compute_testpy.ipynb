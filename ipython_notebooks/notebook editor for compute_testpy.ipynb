{
  "metadata": {
    "kernelspec": {
      "display_name": "Python 2",
      "language": "python",
      "name": "python2"
    },
    "creator": "admin",
    "createdOn": 1619621348304,
    "tags": [
      "deleted-recipe-editor"
    ],
    "customFields": {}
  },
  "nbformat": 4,
  "nbformat_minor": 0,
  "cells": [
    {
      "execution_count": 0,
      "cell_type": "code",
      "metadata": {},
      "source": [
        "# -*- coding: utf-8 -*-\n",
        "import dataiku\n",
        "import pandas as pd, numpy as np\n",
        "from dataiku import pandasutils as pdu\n",
        "\n",
        "# Read recipe inputs\n",
        "new_customers_joined \u003d dataiku.Dataset(\"new_customers_joined\")\n",
        "new_customers_joined_df \u003d new_customers_joined.get_dataframe()\n",
        "\n",
        "\n",
        "# Compute recipe outputs from inputs\n",
        "# TODO: Replace this part by your actual code that computes the output, as a Pandas dataframe\n",
        "# NB: DSS also supports other kinds of APIs for reading and writing data. Please see doc.\n",
        "\n",
        "testpy_df \u003d new_customers_joined_df # For this sample code, simply copy input to output\n",
        "\n",
        "\n",
        "# Write recipe outputs\n",
        "testpy \u003d dataiku.Dataset(\"testpy\")\n",
        "testpy.write_with_schema(testpy_df)"
      ],
      "outputs": []
    }
  ]
}