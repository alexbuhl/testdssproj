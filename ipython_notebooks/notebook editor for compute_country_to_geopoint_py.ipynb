{
  "metadata": {
    "kernelspec": {
      "display_name": "Python 2",
      "name": "python2",
      "language": "python"
    },
    "language_info": {
      "mimetype": "text/x-python",
      "nbconvert_exporter": "python",
      "version": "2.7.16",
      "name": "python",
      "pygments_lexer": "ipython2",
      "file_extension": ".py",
      "codemirror_mode": {
        "version": 2,
        "name": "ipython"
      }
    },
    "creator": "admin",
    "associatedRecipe": "compute_country_to_geopoint_py",
    "createdOn": 1618314564083,
    "tags": [
      "recipe-editor"
    ],
    "customFields": {},
    "modifiedBy": "admin"
  },
  "nbformat": 4,
  "nbformat_minor": 1,
  "cells": [
    {
      "execution_count": 0,
      "cell_type": "code",
      "metadata": {},
      "source": [
        "# -*- coding: utf-8 -*-\nimport dataiku\nimport pandas as pd, numpy as np\nfrom dataiku import pandasutils as pdu\n\n# Read recipe inputs\ncountry_to_geopoint \u003d dataiku.Dataset(\"country_to_geopoint\")\ncountry_to_geopoint_df \u003d country_to_geopoint.get_dataframe()\n\n\n# Compute recipe outputs from inputs\n# TODO: Replace this part by your actual code that computes the output, as a Pandas dataframe\n# NB: DSS also supports other kinds of APIs for reading and writing data. Please see doc.\n\ncountry_to_geopoint_py_df \u003d country_to_geopoint_df # For this sample code, simply copy input to output\n\n\n# Write recipe outputs\ncountry_to_geopoint_py \u003d dataiku.Dataset(\"country_to_geopoint_py\")\ncountry_to_geopoint_py.write_with_schema(country_to_geopoint_py_df)"
      ],
      "outputs": []
    }
  ]
}