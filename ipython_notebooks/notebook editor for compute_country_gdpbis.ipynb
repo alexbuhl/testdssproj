{
  "metadata": {
    "kernelspec": {
      "display_name": "Python 2",
      "name": "python2",
      "language": "python"
    },
    "language_info": {
      "mimetype": "text/x-python",
      "nbconvert_exporter": "python",
      "version": "2.7.16",
      "name": "python",
      "pygments_lexer": "ipython2",
      "file_extension": ".py",
      "codemirror_mode": {
        "version": 2,
        "name": "ipython"
      }
    },
    "dkuGit": {
      "lastInteraction": 0
    },
    "creator": "admin",
    "associatedRecipe": "compute_country_gdpbis",
    "createdOn": 1624277865183,
    "hide_input": false,
    "creationTag": {
      "lastModifiedBy": {
        "login": "admin"
      },
      "lastModifiedOn": 1624277865183,
      "versionNumber": 0
    },
    "customFields": {},
    "tags": [
      "recipe-editor"
    ],
    "modifiedBy": "admin"
  },
  "nbformat": 4,
  "nbformat_minor": 1,
  "cells": [
    {
      "execution_count": 0,
      "cell_type": "code",
      "metadata": {},
      "source": [
        "# -*- coding: utf-8 -*-\nimport dataiku\nimport pandas as pd, numpy as np\nfrom dataiku import pandasutils as pdu\n\n# Read recipe inputs\ncountry_gdp \u003d dataiku.Dataset(\"country_gdp\")\ncountry_gdp_df \u003d country_gdp.get_dataframe()\n\n\n# Compute recipe outputs from inputs\n# TODO: Replace this part by your actual code that computes the output, as a Pandas dataframe\n# NB: DSS also supports other kinds of APIs for reading and writing data. Please see doc.\n\ncountry_gdpbis_df \u003d country_gdp_df # For this sample code, simply copy input to output\n\n# Write recipe outputs\ncountry_gdpbis \u003d dataiku.Dataset(\"country_gdpbis\")\ncountry_gdpbis.write_with_schema(country_gdpbis_df)"
      ],
      "outputs": []
    }
  ]
}