{
  "nbformat": 4,
  "nbformat_minor": 0,
  "metadata": {
    "kernelspec": {
      "display_name": "Python (env Py36)",
      "language": "python",
      "name": "py-dku-venv-py36"
    },
    "associatedRecipe": "compute_country_gdpbis",
    "dkuGit": {
      "lastInteraction": 0
    },
    "creationTag": {
      "versionNumber": 0,
      "lastModifiedBy": {
        "login": "admin"
      },
      "lastModifiedOn": 1624277865183
    },
    "creator": "admin",
    "createdOn": 1624277865183,
    "tags": [
      "recipe-editor"
    ],
    "customFields": {}
  },
  "cells": [
    {
      "cell_type": "code",
      "metadata": {},
      "outputs": [],
      "execution_count": 0,
      "source": [
        "# -*- coding: utf-8 -*-\n",
        "import dataiku\n",
        "import pandas as pd, numpy as np\n",
        "from dataiku import pandasutils as pdu\n",
        "\n",
        "# Read recipe inputs\n",
        "country_gdp \u003d dataiku.Dataset(\"country_gdp\")\n",
        "country_gdp_df \u003d country_gdp.get_dataframe()\n",
        "\n",
        "#import debugpy\n",
        "## 5678 is the default attach port in the VS Code debug configurations. Unless a host and port are specified, host defaults to 127.0.0.1\n",
        "#debugpy.listen(5678)\n",
        "#debugpy.wait_for_client()\n",
        "#debugpy.breakpoint()\n",
        "#print(\"test\")\n",
        "#debugpy.breakpoint()\n",
        "#print(\"second\")\n",
        "#\n",
        "# Compute recipe outputs from inputs\n",
        "# TODO: Replace this part by your actual code that computes the output, as a Pandas dataframe\n",
        "# NB: DSS also supports other kinds of APIs for reading and writing data. Please see doc.\n",
        "\n",
        "\n",
        "country_gdpbis_df \u003d country_gdp_df # For this sample code, simply copy input to output\n",
        "\n",
        "# Write recipe outputs\n",
        "country_gdpbis \u003d dataiku.Dataset(\"country_gdpbis\")\n",
        "country_gdpbis.write_with_schema(country_gdpbis_df)"
      ]
    }
  ]
}